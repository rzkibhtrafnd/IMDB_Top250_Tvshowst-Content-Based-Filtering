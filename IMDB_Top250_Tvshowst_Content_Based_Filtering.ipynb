{
  "nbformat": 4,
  "nbformat_minor": 0,
  "metadata": {
    "colab": {
      "provenance": [],
      "collapsed_sections": [
        "Gs_5vuOgE-W0",
        "zFwD_1UeFG_Z",
        "8v3o2d2PFSWp",
        "Q70ZdK_JFYVR",
        "gVr6CpioFfoC",
        "m51k3uY0FmXS",
        "8YtYNcweFoyR"
      ]
    },
    "kernelspec": {
      "name": "python3",
      "display_name": "Python 3"
    },
    "language_info": {
      "name": "python"
    }
  },
  "cells": [
    {
      "cell_type": "markdown",
      "source": [
        "# **Import Library**\n"
      ],
      "metadata": {
        "id": "Gs_5vuOgE-W0"
      }
    },
    {
      "cell_type": "code",
      "execution_count": 4,
      "metadata": {
        "id": "8Z_Sa7eK4Wnv"
      },
      "outputs": [],
      "source": [
        "import gdown\n",
        "import pandas as pd\n",
        "import numpy as np\n",
        "import matplotlib.pyplot as plt\n",
        "import seaborn as sns\n",
        "from sklearn.feature_extraction.text import TfidfVectorizer\n",
        "from sklearn.preprocessing import MinMaxScaler\n",
        "from sklearn.metrics.pairwise import cosine_similarity\n",
        "from scipy.sparse import hstack\n",
        "from sklearn.metrics import precision_score, recall_score"
      ]
    },
    {
      "cell_type": "markdown",
      "source": [
        "# **Dataset**"
      ],
      "metadata": {
        "id": "zFwD_1UeFG_Z"
      }
    },
    {
      "cell_type": "code",
      "source": [
        "# Download dataset\n",
        "url = 'https://drive.google.com/uc?id=1Cwyn6wG6OSP_o2n3kXx-En7axj7JDmyq'\n",
        "output = 'IMDB_Top250_Tvshowst.csv'\n",
        "gdown.download(url, output, quiet=False)\n",
        "\n",
        "# Membaca dataset\n",
        "df = pd.read_csv(output, encoding='latin-1')"
      ],
      "metadata": {
        "colab": {
          "base_uri": "https://localhost:8080/"
        },
        "id": "UIOypdQ_46gg",
        "outputId": "1e5b2e01-2f87-402f-f9cc-64418845b22a"
      },
      "execution_count": 5,
      "outputs": [
        {
          "output_type": "stream",
          "name": "stderr",
          "text": [
            "Downloading...\n",
            "From: https://drive.google.com/uc?id=1Cwyn6wG6OSP_o2n3kXx-En7axj7JDmyq\n",
            "To: /content/IMDB_Top250_Tvshowst.csv\n",
            "100%|██████████| 15.2k/15.2k [00:00<00:00, 27.8MB/s]\n"
          ]
        }
      ]
    },
    {
      "cell_type": "code",
      "source": [
        "print(\"Dimensi dataset:\", df.shape)\n",
        "print(\"\\nInfo dataset:\")\n",
        "df.info()\n",
        "print(\"\\nStatistik deskriptif:\")\n",
        "df.describe(include='all')\n",
        "\n",
        "# Cek missing value\n",
        "print(\"\\nMissing values per kolom:\")\n",
        "df.isnull().sum()\n",
        "\n",
        "# Cek duplikat\n",
        "print(\"\\nJumlah duplikat:\", df.duplicated().sum())"
      ],
      "metadata": {
        "colab": {
          "base_uri": "https://localhost:8080/"
        },
        "id": "yOZ7qlpq5kIM",
        "outputId": "c59301d0-53a7-4cdb-9416-589845057f97"
      },
      "execution_count": 7,
      "outputs": [
        {
          "output_type": "stream",
          "name": "stdout",
          "text": [
            "Dimensi dataset: (250, 7)\n",
            "\n",
            "Info dataset:\n",
            "<class 'pandas.core.frame.DataFrame'>\n",
            "RangeIndex: 250 entries, 0 to 249\n",
            "Data columns (total 7 columns):\n",
            " #   Column          Non-Null Count  Dtype  \n",
            "---  ------          --------------  -----  \n",
            " 0   Titile          250 non-null    object \n",
            " 1   Year            250 non-null    object \n",
            " 2   Total_episodes  250 non-null    object \n",
            " 3   Age             244 non-null    object \n",
            " 4   Rating          250 non-null    float64\n",
            " 5   Vote_count      250 non-null    object \n",
            " 6   Category        250 non-null    object \n",
            "dtypes: float64(1), object(6)\n",
            "memory usage: 13.8+ KB\n",
            "\n",
            "Statistik deskriptif:\n",
            "\n",
            "Missing values per kolom:\n",
            "\n",
            "Jumlah duplikat: 0\n"
          ]
        }
      ]
    },
    {
      "cell_type": "markdown",
      "source": [
        "Pada tahapan ini saya melakukan download dataset dari drive, menampilkan informasi dasar dari dataset seperti jumlah data, kondisi data (missing value, duplikat, outlier) serta mendokumentasikan seluruh fitur yang ada."
      ],
      "metadata": {
        "id": "YjO4TdSRQlgA"
      }
    },
    {
      "cell_type": "markdown",
      "source": [
        "# **Data Cleaning & Preprocessing**"
      ],
      "metadata": {
        "id": "8v3o2d2PFSWp"
      }
    },
    {
      "cell_type": "code",
      "source": [
        "# Rename kolom Titile menjadi Title\n",
        "df.rename(columns={'Titile': 'Title'}, inplace=True)"
      ],
      "metadata": {
        "id": "Uj4NH7FoFNya"
      },
      "execution_count": 8,
      "outputs": []
    },
    {
      "cell_type": "code",
      "source": [
        "# Pembersihan dan Konversi Kolom Vote_count\n",
        "def convert_vote_count(value):\n",
        "    if isinstance(value, str):\n",
        "        value = value.replace(\"(\", \"\").replace(\")\", \"\").strip()\n",
        "        if \"K\" in value:\n",
        "            return float(value.replace(\"K\", \"\")) * 1e3\n",
        "        elif \"M\" in value:\n",
        "            return float(value.replace(\"M\", \"\")) * 1e6\n",
        "        else:\n",
        "            try:\n",
        "                return float(value)\n",
        "            except:\n",
        "                return np.nan\n",
        "    return value\n",
        "\n",
        "df['Vote_count'] = df['Vote_count'].apply(convert_vote_count)\n",
        "df['Vote_count'] = pd.to_numeric(df['Vote_count'], errors='coerce')"
      ],
      "metadata": {
        "id": "Hfm6i26V5dSu"
      },
      "execution_count": 9,
      "outputs": []
    },
    {
      "cell_type": "code",
      "source": [
        "# Pembersihan Kolom Total_episodes\n",
        "def convert_episodes(value):\n",
        "    if isinstance(value, str):\n",
        "        value = value.lower().replace(\"eps\", \"\").strip()\n",
        "        try:\n",
        "            return int(value)\n",
        "        except:\n",
        "            return np.nan\n",
        "    return value\n",
        "\n",
        "df['Total_episodes'] = df['Total_episodes'].apply(convert_episodes)\n",
        "df['Total_episodes'] = pd.to_numeric(df['Total_episodes'], errors='coerce')"
      ],
      "metadata": {
        "id": "SsV7diifQ7kc"
      },
      "execution_count": 10,
      "outputs": []
    },
    {
      "cell_type": "code",
      "source": [
        "# Penanganan Missing Value pada Kolom Age\n",
        "df['Age'] = df['Age'].fillna('Unknown')"
      ],
      "metadata": {
        "id": "kuYMZKFRQ9GK"
      },
      "execution_count": 11,
      "outputs": []
    },
    {
      "cell_type": "markdown",
      "source": [
        "Pada tahapan Data Cleaning & Preprocessing\n",
        "saya melakukan pembersihan dan persiapan data, antara lain:\n",
        "1. Mengubah nama kolom (jika ada kesalahan penulisan).\n",
        "2. Membersihkan kolom `Vote_count` dengan menghapus tanda kurung, spasi, dan mengkonversi notasi 'K' dan 'M' menjadi nilai numerik.\n",
        "3. Membersihkan kolom `Total_episodes` dengan menghapus kata \"eps\" dan spasi, kemudian mengkonversinya ke integer.\n",
        "4. Mengisi missing value pada kolom `Age` dengan 'Unknown'."
      ],
      "metadata": {
        "id": "O-jn29GZRDUi"
      }
    },
    {
      "cell_type": "markdown",
      "source": [
        "# **Exploratory Data Analysis (EDA)**"
      ],
      "metadata": {
        "id": "Q70ZdK_JFYVR"
      }
    },
    {
      "cell_type": "code",
      "source": [
        "#Histogram Distribusi Rating\n",
        "plt.figure(figsize=(8, 5))\n",
        "sns.histplot(df['Rating'], bins=20, kde=True)\n",
        "plt.title(\"Distribusi Rating\")\n",
        "plt.xlabel(\"Rating\")\n",
        "plt.ylabel(\"Frekuensi\")\n",
        "plt.show()"
      ],
      "metadata": {
        "colab": {
          "base_uri": "https://localhost:8080/",
          "height": 487
        },
        "id": "axBg_di96K_M",
        "outputId": "7c861648-9e71-46f5-d784-05b0f8ee6c2f"
      },
      "execution_count": 12,
      "outputs": [
        {
          "output_type": "display_data",
          "data": {
            "text/plain": [
              "<Figure size 800x500 with 1 Axes>"
            ],
            "image/png": "[encoded data removed]"
          },
          "metadata": {}
        }
      ]
    },
    {
      "cell_type": "code",
      "source": [
        "# Scatter Plot antara Rating dan Vote_count\n",
        "plt.figure(figsize=(8, 5))\n",
        "sns.scatterplot(data=df, x='Rating', y='Vote_count')\n",
        "plt.title(\"Hubungan Rating dan Vote_count\")\n",
        "plt.xlabel(\"Rating\")\n",
        "plt.ylabel(\"Vote_count\")\n",
        "plt.show()"
      ],
      "metadata": {
        "colab": {
          "base_uri": "https://localhost:8080/",
          "height": 487
        },
        "id": "vpBKwjflRclK",
        "outputId": "5d718a74-ed2d-4864-e2f1-326d68454653"
      },
      "execution_count": 13,
      "outputs": [
        {
          "output_type": "display_data",
          "data": {
            "text/plain": [
              "<Figure size 800x500 with 1 Axes>"
            ],
            "image/png": "[encoded data removed]"
          },
          "metadata": {}
        }
      ]
    },
    {
      "cell_type": "markdown",
      "source": [
        "# Pada tahapan Exploratory Data Analysis ini, saya melakukan analisis awal seperti:\n",
        "- Menampilkan distribusi rating menggunakan histogram.\n",
        "- Melihat hubungan antara Rating dan Vote_count menggunakan scatter plot."
      ],
      "metadata": {
        "id": "X6zHs-dzRhI4"
      }
    },
    {
      "cell_type": "markdown",
      "source": [
        "# **Data Preparation Lanjutan - Ekstraksi Fitur**"
      ],
      "metadata": {
        "id": "gVr6CpioFfoC"
      }
    },
    {
      "cell_type": "code",
      "source": [
        "# Membuat Fitur Metadata\n",
        "# Karena dataset adalah TV Shows, kita tambahkan label \"Series\"\n",
        "df['Content_Type'] = \"Series\"\n",
        "df['Metadata'] = df['Category'].astype(str) + \" \" + df['Age'].astype(str) + \" \" + df['Content_Type']\n",
        "\n",
        "# Tampilkan beberapa contoh Metadata\n",
        "df[['Title', 'Metadata']].head()"
      ],
      "metadata": {
        "id": "uEGta76w9BoS",
        "colab": {
          "base_uri": "https://localhost:8080/",
          "height": 206
        },
        "outputId": "7cac897e-2e01-4a40-88c2-4bd2301fd9a6"
      },
      "execution_count": 14,
      "outputs": [
        {
          "output_type": "execute_result",
          "data": {
            "text/plain": [
              "                 Title                  Metadata\n",
              "0      1. Breaking Bad       TV Series 18 Series\n",
              "1   2. Planet Earth II  TV Mini Series PG Series\n",
              "2      3. Planet Earth  TV Mini Series PG Series\n",
              "3  4. Band of Brothers  TV Mini Series 15 Series\n",
              "4         5. Chernobyl  TV Mini Series 15 Series"
            ],
            "text/html": [
              "\n",
              "  <div id=\"df-f7bc2e69-b32f-4928-8b19-a8ca9bd5a1fc\" class=\"colab-df-container\">\n",
              "    <div>\n",
              "<style scoped>\n",
              "    .dataframe tbody tr th:only-of-type {\n",
              "        vertical-align: middle;\n",
              "    }\n",
              "\n",
              "    .dataframe tbody tr th {\n",
              "        vertical-align: top;\n",
              "    }\n",
              "\n",
              "    .dataframe thead th {\n",
              "        text-align: right;\n",
              "    }\n",
              "</style>\n",
              "<table border=\"1\" class=\"dataframe\">\n",
              "  <thead>\n",
              "    <tr style=\"text-align: right;\">\n",
              "      <th></th>\n",
              "      <th>Title</th>\n",
              "      <th>Metadata</th>\n",
              "    </tr>\n",
              "  </thead>\n",
              "  <tbody>\n",
              "    <tr>\n",
              "      <th>0</th>\n",
              "      <td>1. Breaking Bad</td>\n",
              "      <td>TV Series 18 Series</td>\n",
              "    </tr>\n",
              "    <tr>\n",
              "      <th>1</th>\n",
              "      <td>2. Planet Earth II</td>\n",
              "      <td>TV Mini Series PG Series</td>\n",
              "    </tr>\n",
              "    <tr>\n",
              "      <th>2</th>\n",
              "      <td>3. Planet Earth</td>\n",
              "      <td>TV Mini Series PG Series</td>\n",
              "    </tr>\n",
              "    <tr>\n",
              "      <th>3</th>\n",
              "      <td>4. Band of Brothers</td>\n",
              "      <td>TV Mini Series 15 Series</td>\n",
              "    </tr>\n",
              "    <tr>\n",
              "      <th>4</th>\n",
              "      <td>5. Chernobyl</td>\n",
              "      <td>TV Mini Series 15 Series</td>\n",
              "    </tr>\n",
              "  </tbody>\n",
              "</table>\n",
              "</div>\n",
              "    <div class=\"colab-df-buttons\">\n",
              "\n",
              "  <div class=\"colab-df-container\">\n",
              "    <button class=\"colab-df-convert\" onclick=\"convertToInteractive('df-f7bc2e69-b32f-4928-8b19-a8ca9bd5a1fc')\"\n",
              "            title=\"Convert this dataframe to an interactive table.\"\n",
              "            style=\"display:none;\">\n",
              "\n",
              "  <svg xmlns=\"http://www.w3.org/2000/svg\" height=\"24px\" viewBox=\"0 -960 960 960\">\n",
              "    <path d=\"M120-120v-720h720v720H120Zm60-500h600v-160H180v160Zm220 220h160v-160H400v160Zm0 220h160v-160H400v160ZM180-400h160v-160H180v160Zm440 0h160v-160H620v160ZM180-180h160v-160H180v160Zm440 0h160v-160H620v160Z\"/>\n",
              "  </svg>\n",
              "    </button>\n",
              "\n",
              "  <style>\n",
              "    .colab-df-container {\n",
              "      display:flex;\n",
              "      gap: 12px;\n",
              "    }\n",
              "\n",
              "    .colab-df-convert {\n",
              "      background-color: #E8F0FE;\n",
              "      border: none;\n",
              "      border-radius: 50%;\n",
              "      cursor: pointer;\n",
              "      display: none;\n",
              "      fill: #1967D2;\n",
              "      height: 32px;\n",
              "      padding: 0 0 0 0;\n",
              "      width: 32px;\n",
              "    }\n",
              "\n",
              "    .colab-df-convert:hover {\n",
              "      background-color: #E2EBFA;\n",
              "      box-shadow: 0px 1px 2px rgba(60, 64, 67, 0.3), 0px 1px 3px 1px rgba(60, 64, 67, 0.15);\n",
              "      fill: #174EA6;\n",
              "    }\n",
              "\n",
              "    .colab-df-buttons div {\n",
              "      margin-bottom: 4px;\n",
              "    }\n",
              "\n",
              "    [theme=dark] .colab-df-convert {\n",
              "      background-color: #3B4455;\n",
              "      fill: #D2E3FC;\n",
              "    }\n",
              "\n",
              "    [theme=dark] .colab-df-convert:hover {\n",
              "      background-color: #434B5C;\n",
              "      box-shadow: 0px 1px 3px 1px rgba(0, 0, 0, 0.15);\n",
              "      filter: drop-shadow(0px 1px 2px rgba(0, 0, 0, 0.3));\n",
              "      fill: #FFFFFF;\n",
              "    }\n",
              "  </style>\n",
              "\n",
              "    <script>\n",
              "      const buttonEl =\n",
              "        document.querySelector('#df-f7bc2e69-b32f-4928-8b19-a8ca9bd5a1fc button.colab-df-convert');\n",
              "      buttonEl.style.display =\n",
              "        google.colab.kernel.accessAllowed ? 'block' : 'none';\n",
              "\n",
              "      async function convertToInteractive(key) {\n",
              "        const element = document.querySelector('#df-f7bc2e69-b32f-4928-8b19-a8ca9bd5a1fc');\n",
              "        const dataTable =\n",
              "          await google.colab.kernel.invokeFunction('convertToInteractive',\n",
              "                                                    [key], {});\n",
              "        if (!dataTable) return;\n",
              "\n",
              "        const docLinkHtml = 'Like what you see? Visit the ' +\n",
              "          '<a target=\"_blank\" href=https://colab.research.google.com/notebooks/data_table.ipynb>data table notebook</a>'\n",
              "          + ' to learn more about interactive tables.';\n",
              "        element.innerHTML = '';\n",
              "        dataTable['output_type'] = 'display_data';\n",
              "        await google.colab.output.renderOutput(dataTable, element);\n",
              "        const docLink = document.createElement('div');\n",
              "        docLink.innerHTML = docLinkHtml;\n",
              "        element.appendChild(docLink);\n",
              "      }\n",
              "    </script>\n",
              "  </div>\n",
              "\n",
              "\n",
              "<div id=\"df-d22f10dc-36f9-4c52-a38b-caf3e066d02c\">\n",
              "  <button class=\"colab-df-quickchart\" onclick=\"quickchart('df-d22f10dc-36f9-4c52-a38b-caf3e066d02c')\"\n",
              "            title=\"Suggest charts\"\n",
              "            style=\"display:none;\">\n",
              "\n",
              "<svg xmlns=\"http://www.w3.org/2000/svg\" height=\"24px\"viewBox=\"0 0 24 24\"\n",
              "     width=\"24px\">\n",
              "    <g>\n",
              "        <path d=\"M19 3H5c-1.1 0-2 .9-2 2v14c0 1.1.9 2 2 2h14c1.1 0 2-.9 2-2V5c0-1.1-.9-2-2-2zM9 17H7v-7h2v7zm4 0h-2V7h2v10zm4 0h-2v-4h2v4z\"/>\n",
              "    </g>\n",
              "</svg>\n",
              "  </button>\n",
              "\n",
              "<style>\n",
              "  .colab-df-quickchart {\n",
              "      --bg-color: #E8F0FE;\n",
              "      --fill-color: #1967D2;\n",
              "      --hover-bg-color: #E2EBFA;\n",
              "      --hover-fill-color: #174EA6;\n",
              "      --disabled-fill-color: #AAA;\n",
              "      --disabled-bg-color: #DDD;\n",
              "  }\n",
              "\n",
              "  [theme=dark] .colab-df-quickchart {\n",
              "      --bg-color: #3B4455;\n",
              "      --fill-color: #D2E3FC;\n",
              "      --hover-bg-color: #434B5C;\n",
              "      --hover-fill-color: #FFFFFF;\n",
              "      --disabled-bg-color: #3B4455;\n",
              "      --disabled-fill-color: #666;\n",
              "  }\n",
              "\n",
              "  .colab-df-quickchart {\n",
              "    background-color: var(--bg-color);\n",
              "    border: none;\n",
              "    border-radius: 50%;\n",
              "    cursor: pointer;\n",
              "    display: none;\n",
              "    fill: var(--fill-color);\n",
              "    height: 32px;\n",
              "    padding: 0;\n",
              "    width: 32px;\n",
              "  }\n",
              "\n",
              "  .colab-df-quickchart:hover {\n",
              "    background-color: var(--hover-bg-color);\n",
              "    box-shadow: 0 1px 2px rgba(60, 64, 67, 0.3), 0 1px 3px 1px rgba(60, 64, 67, 0.15);\n",
              "    fill: var(--button-hover-fill-color);\n",
              "  }\n",
              "\n",
              "  .colab-df-quickchart-complete:disabled,\n",
              "  .colab-df-quickchart-complete:disabled:hover {\n",
              "    background-color: var(--disabled-bg-color);\n",
              "    fill: var(--disabled-fill-color);\n",
              "    box-shadow: none;\n",
              "  }\n",
              "\n",
              "  .colab-df-spinner {\n",
              "    border: 2px solid var(--fill-color);\n",
              "    border-color: transparent;\n",
              "    border-bottom-color: var(--fill-color);\n",
              "    animation:\n",
              "      spin 1s steps(1) infinite;\n",
              "  }\n",
              "\n",
              "  @keyframes spin {\n",
              "    0% {\n",
              "      border-color: transparent;\n",
              "      border-bottom-color: var(--fill-color);\n",
              "      border-left-color: var(--fill-color);\n",
              "    }\n",
              "    20% {\n",
              "      border-color: transparent;\n",
              "      border-left-color: var(--fill-color);\n",
              "      border-top-color: var(--fill-color);\n",
              "    }\n",
              "    30% {\n",
              "      border-color: transparent;\n",
              "      border-left-color: var(--fill-color);\n",
              "      border-top-color: var(--fill-color);\n",
              "      border-right-color: var(--fill-color);\n",
              "    }\n",
              "    40% {\n",
              "      border-color: transparent;\n",
              "      border-right-color: var(--fill-color);\n",
              "      border-top-color: var(--fill-color);\n",
              "    }\n",
              "    60% {\n",
              "      border-color: transparent;\n",
              "      border-right-color: var(--fill-color);\n",
              "    }\n",
              "    80% {\n",
              "      border-color: transparent;\n",
              "      border-right-color: var(--fill-color);\n",
              "      border-bottom-color: var(--fill-color);\n",
              "    }\n",
              "    90% {\n",
              "      border-color: transparent;\n",
              "      border-bottom-color: var(--fill-color);\n",
              "    }\n",
              "  }\n",
              "</style>\n",
              "\n",
              "  <script>\n",
              "    async function quickchart(key) {\n",
              "      const quickchartButtonEl =\n",
              "        document.querySelector('#' + key + ' button');\n",
              "      quickchartButtonEl.disabled = true;  // To prevent multiple clicks.\n",
              "      quickchartButtonEl.classList.add('colab-df-spinner');\n",
              "      try {\n",
              "        const charts = await google.colab.kernel.invokeFunction(\n",
              "            'suggestCharts', [key], {});\n",
              "      } catch (error) {\n",
              "        console.error('Error during call to suggestCharts:', error);\n",
              "      }\n",
              "      quickchartButtonEl.classList.remove('colab-df-spinner');\n",
              "      quickchartButtonEl.classList.add('colab-df-quickchart-complete');\n",
              "    }\n",
              "    (() => {\n",
              "      let quickchartButtonEl =\n",
              "        document.querySelector('#df-d22f10dc-36f9-4c52-a38b-caf3e066d02c button');\n",
              "      quickchartButtonEl.style.display =\n",
              "        google.colab.kernel.accessAllowed ? 'block' : 'none';\n",
              "    })();\n",
              "  </script>\n",
              "</div>\n",
              "\n",
              "    </div>\n",
              "  </div>\n"
            ],
            "application/vnd.google.colaboratory.intrinsic+json": {
              "type": "dataframe",
              "summary": "{\n  \"name\": \"df[['Title', 'Metadata']]\",\n  \"rows\": 5,\n  \"fields\": [\n    {\n      \"column\": \"Title\",\n      \"properties\": {\n        \"dtype\": \"string\",\n        \"num_unique_values\": 5,\n        \"samples\": [\n          \"2. Planet Earth II\",\n          \"5. Chernobyl\",\n          \"3. Planet Earth\"\n        ],\n        \"semantic_type\": \"\",\n        \"description\": \"\"\n      }\n    },\n    {\n      \"column\": \"Metadata\",\n      \"properties\": {\n        \"dtype\": \"string\",\n        \"num_unique_values\": 3,\n        \"samples\": [\n          \"TV Series 18 Series\",\n          \"TV Mini Series PG Series\",\n          \"TV Mini Series 15 Series\"\n        ],\n        \"semantic_type\": \"\",\n        \"description\": \"\"\n      }\n    }\n  ]\n}"
            }
          },
          "metadata": {},
          "execution_count": 14
        }
      ]
    },
    {
      "cell_type": "code",
      "source": [
        "#Ekstraksi Fitur Teks dengan TF-IDF\n",
        "tfidf_vectorizer = TfidfVectorizer(stop_words='english')\n",
        "tfidf_matrix = tfidf_vectorizer.fit_transform(df['Metadata'])\n",
        "\n",
        "print(\"Ukuran TF-IDF matrix:\", tfidf_matrix.shape)"
      ],
      "metadata": {
        "colab": {
          "base_uri": "https://localhost:8080/"
        },
        "id": "aSn2FgYMR44S",
        "outputId": "0183d6c3-38ac-449a-d4ea-6da27f5d7f25"
      },
      "execution_count": 15,
      "outputs": [
        {
          "output_type": "stream",
          "name": "stdout",
          "text": [
            "Ukuran TF-IDF matrix: (250, 13)\n"
          ]
        }
      ]
    },
    {
      "cell_type": "code",
      "source": [
        "# Normalisasi Fitur Numerik\n",
        "scaler = MinMaxScaler()\n",
        "\n",
        "# Memastikan kolom Rating dan Vote_count tidak memiliki nilai NaN\n",
        "df['Rating'] = df['Rating'].fillna(df['Rating'].mean())\n",
        "df['Vote_count'] = df['Vote_count'].fillna(0)\n",
        "\n",
        "numerical_features = df[['Rating', 'Vote_count']]\n",
        "numerical_scaled = scaler.fit_transform(numerical_features)\n",
        "\n",
        "# Merubah ke format sparse matrix untuk penggabungan\n",
        "from scipy.sparse import csr_matrix\n",
        "numerical_scaled_sparse = csr_matrix(numerical_scaled)"
      ],
      "metadata": {
        "id": "tv1XheSS9DST"
      },
      "execution_count": 16,
      "outputs": []
    },
    {
      "cell_type": "code",
      "source": [
        "# Penggabungan Fitur (TF-IDF dan Fitur Numerik)\n",
        "combined_features = hstack([tfidf_matrix, numerical_scaled_sparse])\n",
        "print(\"Ukuran matriks fitur gabungan:\", combined_features.shape)"
      ],
      "metadata": {
        "id": "5G9-rBao9Fs7",
        "colab": {
          "base_uri": "https://localhost:8080/"
        },
        "outputId": "ab625718-c5d6-4980-82af-79fe17cec966"
      },
      "execution_count": 17,
      "outputs": [
        {
          "output_type": "stream",
          "name": "stdout",
          "text": [
            "Ukuran matriks fitur gabungan: (250, 15)\n"
          ]
        }
      ]
    },
    {
      "cell_type": "markdown",
      "source": [
        "Pada tahap Data Preparation Lanjutan - Ekstraksi Fitur, saya melakukan:\n",
        "1. Membuat fitur baru `Metadata` dengan menggabungkan informasi dari kolom `Category`, `Age` dan penanda jenis konten.\n",
        "   - Karena dataset merupakan TV Shows, kita dapat menandai sebagai \"Series\".\n",
        "2. Mengubah teks pada `Metadata` menjadi vektor fitur menggunakan TF-IDF.\n",
        "3. Melakukan normalisasi pada fitur numerik `Rating` dan `Vote_count`.\n",
        "4. Menggabungkan fitur teks dan numerik menjadi satu matriks untuk perhitungan cosine similarity."
      ],
      "metadata": {
        "id": "ZqjnTlRTSP3_"
      }
    },
    {
      "cell_type": "markdown",
      "source": [
        "# **Modeling (Content-Based Filtering)**"
      ],
      "metadata": {
        "id": "m51k3uY0FmXS"
      }
    },
    {
      "cell_type": "code",
      "source": [
        "# Perhitungan Cosine Similarity\n",
        "cosine_sim = cosine_similarity(combined_features, combined_features)\n",
        "print(\"Cosine similarity matrix telah dihitung.\")"
      ],
      "metadata": {
        "colab": {
          "base_uri": "https://localhost:8080/"
        },
        "id": "bPFYA3MASbCY",
        "outputId": "f6f42e17-bd97-49c2-c3db-92565cb98a6c"
      },
      "execution_count": 18,
      "outputs": [
        {
          "output_type": "stream",
          "name": "stdout",
          "text": [
            "Cosine similarity matrix telah dihitung.\n"
          ]
        }
      ]
    },
    {
      "cell_type": "code",
      "source": [
        "# Fungsi Mendapatkan Rekomendasi Top-N\n",
        "def get_recommendations(title, cosine_sim=cosine_sim, df=df, top_n=5):\n",
        "    # Indeks dari judul input\n",
        "    indices = pd.Series(df.index, index=df['Title']).drop_duplicates()\n",
        "\n",
        "    if title not in indices:\n",
        "        print(\"Judul tidak ditemukan dalam dataset.\")\n",
        "        return []\n",
        "\n",
        "    idx = indices[title]\n",
        "\n",
        "    # Mengambil skor cosine similarity untuk judul tersebut\n",
        "    sim_scores = list(enumerate(cosine_sim[idx]))\n",
        "\n",
        "    # Mengurutkan berdasarkan skor (dari yang paling mirip), kecuali judul input itu sendiri\n",
        "    sim_scores = sorted(sim_scores, key=lambda x: x[1], reverse=True)\n",
        "    sim_scores = [s for s in sim_scores if s[0] != idx]\n",
        "\n",
        "    # Ambil top_n rekomendasi\n",
        "    sim_scores = sim_scores[:top_n]\n",
        "\n",
        "    # Mendapatkan indeks rekomendasi\n",
        "    movie_indices = [i[0] for i in sim_scores]\n",
        "\n",
        "    # Kembalikan judul rekomendasi\n",
        "    return df['Title'].iloc[movie_indices]"
      ],
      "metadata": {
        "id": "wGL1KiLB9HAb"
      },
      "execution_count": 20,
      "outputs": []
    },
    {
      "cell_type": "code",
      "source": [
        "# Contoh penggunaan fungsi rekomendasi\n",
        "input_title = df['Title'].iloc[0]\n",
        "print(\"Rekomendasi untuk judul:\", input_title)\n",
        "print(\"===============================\")\n",
        "print(get_recommendations(input_title))"
      ],
      "metadata": {
        "colab": {
          "base_uri": "https://localhost:8080/"
        },
        "id": "QYJJWGRgTFzH",
        "outputId": "b95f9f97-d519-460f-8006-2d22cfb5cdb5"
      },
      "execution_count": 21,
      "outputs": [
        {
          "output_type": "stream",
          "name": "stdout",
          "text": [
            "Rekomendasi untuk judul: 1. Breaking Bad\n",
            "===============================\n",
            "12    13. Game of Thrones\n",
            "8         9. The Sopranos\n",
            "5             6. The Wire\n",
            "41     42. True Detective\n",
            "85     86. Peaky Blinders\n",
            "Name: Title, dtype: object\n"
          ]
        }
      ]
    },
    {
      "cell_type": "markdown",
      "source": [
        "Pada tahap ini, saya melakukan:\n",
        "menghitung cosine similarity antara semua\n",
        "\n",
        "1.   Perhitungan cosine similarity antara semua entitas berdasarkan fitur gabungan.\n",
        "2.   Membuat fungsi untuk mendapatkan rekomendasi top-5 untuk suatu judul input.\n",
        "3. Melakukan contoh penggunaan fungsi rekomendasi."
      ],
      "metadata": {
        "id": "wTsNaa6XTQLM"
      }
    },
    {
      "cell_type": "markdown",
      "source": [
        "# **Evaluasi**"
      ],
      "metadata": {
        "id": "8YtYNcweFoyR"
      }
    },
    {
      "cell_type": "code",
      "source": [
        "# Fungsi Visualisasi Rekomendasi\n",
        "def plot_recommendations(title, cosine_sim=cosine_sim, df=df, top_n=5):\n",
        "    indices = pd.Series(df.index, index=df['Title']).drop_duplicates()\n",
        "\n",
        "    if title not in indices:\n",
        "        print(\"Judul tidak ditemukan dalam dataset.\")\n",
        "        return\n",
        "\n",
        "    idx = indices[title]\n",
        "    sim_scores = list(enumerate(cosine_sim[idx]))\n",
        "    sim_scores = sorted(sim_scores, key=lambda x: x[1], reverse=True)\n",
        "    sim_scores = [s for s in sim_scores if s[0] != idx][:top_n]\n",
        "\n",
        "    movie_indices = [i[0] for i in sim_scores]\n",
        "    scores = [i[1] for i in sim_scores]\n",
        "\n",
        "    rec_titles = df['Title'].iloc[movie_indices]\n",
        "\n",
        "    plt.figure(figsize=(10, 6))\n",
        "    sns.barplot(x=scores, y=rec_titles, orient='h')\n",
        "    plt.xlabel(\"Cosine Similarity\")\n",
        "    plt.title(\"Top-{} Rekomendasi untuk '{}'\".format(top_n, title))\n",
        "    plt.show()\n",
        "\n",
        "# Contoh visualisasi rekomendasi\n",
        "plot_recommendations(input_title)"
      ],
      "metadata": {
        "colab": {
          "base_uri": "https://localhost:8080/",
          "height": 489
        },
        "id": "_X3I5Act9Kt8",
        "outputId": "91c2328c-ee18-4a30-ddc1-694a2da266a7"
      },
      "execution_count": 22,
      "outputs": [
        {
          "output_type": "display_data",
          "data": {
            "text/plain": [
              "<Figure size 1000x600 with 1 Axes>"
            ],
            "image/png": "[encoded data removed]"
          },
          "metadata": {}
        }
      ]
    },
    {
      "cell_type": "markdown",
      "source": [
        "Dalam proyek ini, perhitungan cosine similarity digunakan untuk mengukur kemiripan fitur.  \n",
        "Namun, untuk evaluasi performa rekomendasi sebaiknya digunakan metrik relevansi seperti:\n",
        "- **Precision:** Proporsi rekomendasi yang relevan.\n",
        "- **Recall@K:** Seberapa banyak item relevan yang berhasil direkomendasikan pada top-K.\n",
        "- **NDCG@K:** Mengukur kualitas urutan rekomendasi.\n",
        "\n",
        "Karena ground truth untuk rekomendasi tidak tersedia dalam dataset ini, evaluasi secara kuantitatif dapat dilakukan melalui validasi manual atau dengan data interaksi pengguna (untuk pengembangan lebih lanjut)."
      ],
      "metadata": {
        "id": "aL38O1xoT9R2"
      }
    },
    {
      "cell_type": "code",
      "source": [
        "# Contoh Dummy Evaluasi (Opsional)\n",
        "# Misalnya, jika terdapat ground truth untuk 1 judul, berikut adalah contoh dummy evaluasi:\n",
        "# Misalkan kita definisikan rekomendasi yang dianggap relevan (dummy) untuk judul input.\n",
        "relevant_titles = set(get_recommendations(input_title))\n",
        "recommended_titles = set(get_recommendations(input_title))\n",
        "\n",
        "# Karena ini dummy, kita asumsikan seluruh rekomendasi adalah relevan.\n",
        "precision = len(recommended_titles.intersection(relevant_titles)) / len(recommended_titles)\n",
        "print(\"Dummy Precision:\", precision)"
      ],
      "metadata": {
        "colab": {
          "base_uri": "https://localhost:8080/"
        },
        "id": "syvWuvUjUQMo",
        "outputId": "b97dc0e5-4ec8-4eab-b5c8-ddc38840f248"
      },
      "execution_count": 23,
      "outputs": [
        {
          "output_type": "stream",
          "name": "stdout",
          "text": [
            "Dummy Precision: 1.0\n"
          ]
        }
      ]
    }
  ]
}